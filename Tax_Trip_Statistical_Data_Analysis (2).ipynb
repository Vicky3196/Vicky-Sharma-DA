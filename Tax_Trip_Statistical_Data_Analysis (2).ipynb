{
  "nbformat": 4,
  "nbformat_minor": 0,
  "metadata": {
    "colab": {
      "private_outputs": true,
      "provenance": []
    },
    "kernelspec": {
      "name": "python3",
      "display_name": "Python 3"
    },
    "language_info": {
      "name": "python"
    }
  },
  "cells": [
    {
      "cell_type": "markdown",
      "source": [
        "# **Tax Trip Statistical Data Analysis**"
      ],
      "metadata": {
        "id": "HisG5Hw32kzC"
      }
    },
    {
      "cell_type": "code",
      "source": [
        "import pandas as pd\n",
        "import matplotlib.pyplot as plt\n",
        "import seaborn as sns\n",
        "import statsmodels.api as sm\n",
        "import scipy.stats as st\n",
        "import warnings\n",
        "warnings.filterwarnings('ignore')"
      ],
      "metadata": {
        "id": "FHyvUuz62v1g"
      },
      "execution_count": null,
      "outputs": []
    },
    {
      "cell_type": "markdown",
      "source": [
        "**Loading the dataset**"
      ],
      "metadata": {
        "id": "QLhCJHOZ3wjS"
      }
    },
    {
      "cell_type": "code",
      "source": [
        "df = pd.read_csv(\"/content/2023_Yellow_Taxi_Trip_dataset.xls\")"
      ],
      "metadata": {
        "id": "MmJtdEec36t8"
      },
      "execution_count": null,
      "outputs": []
    },
    {
      "cell_type": "code",
      "source": [
        "df.head(10)"
      ],
      "metadata": {
        "id": "tGrXkLh84Ai7"
      },
      "execution_count": null,
      "outputs": []
    },
    {
      "cell_type": "markdown",
      "source": [
        "# **EDA(Exploratory Data Analysis)**"
      ],
      "metadata": {
        "id": "9ZqYnXka429i"
      }
    },
    {
      "cell_type": "code",
      "source": [
        "df.shape"
      ],
      "metadata": {
        "id": "cUlJ0dZM4-4O"
      },
      "execution_count": null,
      "outputs": []
    },
    {
      "cell_type": "code",
      "source": [
        "df.dtypes"
      ],
      "metadata": {
        "id": "itDNKwj95EGe"
      },
      "execution_count": null,
      "outputs": []
    },
    {
      "cell_type": "code",
      "source": [
        "df['tpep_pickup_datetime'] = pd.to_datetime(df['tpep_pickup_datetime'], errors='coerce')\n",
        "df['tpep_dropoff_datetime'] = pd.to_datetime(df['tpep_dropoff_datetime'], errors='coerce')"
      ],
      "metadata": {
        "id": "8FS7Kd_k5HCP"
      },
      "execution_count": null,
      "outputs": []
    },
    {
      "cell_type": "code",
      "source": [
        "df.dtypes"
      ],
      "metadata": {
        "id": "UmkC4Tpu5fUc"
      },
      "execution_count": null,
      "outputs": []
    },
    {
      "cell_type": "code",
      "source": [
        "df['duration'] = df['tpep_dropoff_datetime'] - df['tpep_pickup_datetime']\n",
        "df['duration'].dt.total_seconds()/60"
      ],
      "metadata": {
        "id": "6r7z2Yos5gcH"
      },
      "execution_count": null,
      "outputs": []
    },
    {
      "cell_type": "code",
      "source": [
        "df = df[['passenger_count','payment_type','fare_amount','trip_distance','duration']]"
      ],
      "metadata": {
        "id": "C_5w7NmB5v99"
      },
      "execution_count": null,
      "outputs": []
    },
    {
      "cell_type": "code",
      "source": [
        "df"
      ],
      "metadata": {
        "id": "eVFw84DO517L"
      },
      "execution_count": null,
      "outputs": []
    },
    {
      "cell_type": "code",
      "source": [
        "df.isnull().sum()"
      ],
      "metadata": {
        "id": "-qHZ-jS-538v"
      },
      "execution_count": null,
      "outputs": []
    },
    {
      "cell_type": "code",
      "source": [
        "df.dropna(inplace=True)\n",
        "df"
      ],
      "metadata": {
        "id": "8tqwfY585-2l"
      },
      "execution_count": null,
      "outputs": []
    },
    {
      "cell_type": "code",
      "source": [
        "df[df.duplicated()]"
      ],
      "metadata": {
        "id": "QiG--c736Eji"
      },
      "execution_count": null,
      "outputs": []
    },
    {
      "cell_type": "code",
      "source": [
        "df.drop_duplicates(inplace=True)"
      ],
      "metadata": {
        "id": "Y5oY26Pa6Nmh"
      },
      "execution_count": null,
      "outputs": []
    },
    {
      "cell_type": "code",
      "source": [
        "df['passenger_count'].value_counts(normalize=True)"
      ],
      "metadata": {
        "id": "9b-YkfGK6XcU"
      },
      "execution_count": null,
      "outputs": []
    },
    {
      "cell_type": "code",
      "source": [
        "df['payment_type'].value_counts(normalize=True)"
      ],
      "metadata": {
        "id": "k5eacD2E6uUW"
      },
      "execution_count": null,
      "outputs": []
    },
    {
      "cell_type": "code",
      "source": [
        "df = df[df['payment_type']<3]\n",
        "df  = df[(df['passenger_count']>0)&(df['passenger_count']<6)]"
      ],
      "metadata": {
        "id": "q9UOqF8v68OF"
      },
      "execution_count": null,
      "outputs": []
    },
    {
      "cell_type": "code",
      "source": [
        "df.shape"
      ],
      "metadata": {
        "id": "yZQdk8P_6-f1"
      },
      "execution_count": null,
      "outputs": []
    },
    {
      "cell_type": "code",
      "source": [
        "df['payment_type'].replace([1,2],['Card','Cash'],inplace=True)"
      ],
      "metadata": {
        "id": "Y2NpeQYf7Awk"
      },
      "execution_count": null,
      "outputs": []
    },
    {
      "cell_type": "code",
      "source": [
        "df.describe()"
      ],
      "metadata": {
        "id": "YCsdHaAQ7EDR"
      },
      "execution_count": null,
      "outputs": []
    },
    {
      "cell_type": "code",
      "source": [
        "df = df[\n",
        "    (df['fare_amount'] > 0) &\n",
        "    (df['trip_distance'] > 0) &\n",
        "    (df['duration'].dt.total_seconds() > 0)\n",
        "]"
      ],
      "metadata": {
        "id": "ucOnoWnY7HQh"
      },
      "execution_count": null,
      "outputs": []
    },
    {
      "cell_type": "code",
      "source": [
        "for col in ['fare_amount','trip_distance','duration']:\n",
        "    q1 = df[col].quantile(0.25)\n",
        "    q3 = df[col].quantile(0.75)\n",
        "    IQR = q3-q1\n",
        "    lower_bound = q1-1.5*IQR\n",
        "    upper_bound = q3+1.5*IQR\n",
        "    df = df[(df[col]>=lower_bound) & (df[col]<=upper_bound)]"
      ],
      "metadata": {
        "id": "WODO8U-I7Nc8"
      },
      "execution_count": null,
      "outputs": []
    },
    {
      "cell_type": "code",
      "source": [
        "df"
      ],
      "metadata": {
        "id": "10PiU1wQ7RQA"
      },
      "execution_count": null,
      "outputs": []
    },
    {
      "cell_type": "code",
      "source": [
        "plt.figure(figsize=(12,5))\n",
        "plt.hist(df[df['payment_type'] == 'Card']['fare_amount'],\n",
        "         histtype='barstacked', bins=20, edgecolor='k',\n",
        "         color='#FA643F', label='Card')\n",
        "plt.hist(df[df['payment_type'] == 'Cash']['fare_amount'],\n",
        "         histtype='barstacked', bins=20, edgecolor='k',\n",
        "         color='#FFBCAB', label='Cash')\n",
        "plt.legend()\n",
        "plt.show()"
      ],
      "metadata": {
        "id": "hy3VUU3f7Ubn"
      },
      "execution_count": null,
      "outputs": []
    },
    {
      "cell_type": "code",
      "source": [
        "plt.figure(figsize=(10, 5))\n",
        "plt.hist(df[df['payment_type'] == 'Card']['fare_amount'],\n",
        "         histtype='barstacked', bins=20, edgecolor='k',\n",
        "         color='#FA643F', label='Card')\n",
        "plt.hist(df[df['payment_type'] == 'Cash']['fare_amount'],\n",
        "         histtype='barstacked', bins=20, edgecolor='k',\n",
        "         color='#FFBCAB', label='Cash')\n",
        "plt.title('Fare Amount Distribution by Payment Type')\n",
        "plt.xlabel('Fare Amount')\n",
        "plt.ylabel('Frequency')\n",
        "plt.legend()\n",
        "plt.show()\n"
      ],
      "metadata": {
        "id": "iWZOkk1l7WTD"
      },
      "execution_count": null,
      "outputs": []
    },
    {
      "cell_type": "code",
      "source": [
        "df"
      ],
      "metadata": {
        "id": "CXfS1qKs7ZOg"
      },
      "execution_count": null,
      "outputs": []
    },
    {
      "cell_type": "code",
      "source": [
        "df.groupby('payment_type').agg({'fare_amount':['mean','std'], 'trip_distance':['mean','std']})"
      ],
      "metadata": {
        "id": "7pRSqEDD7cv-"
      },
      "execution_count": null,
      "outputs": []
    },
    {
      "cell_type": "code",
      "source": [
        "plt.title('Preference of Payment Type')\n",
        "plt.pie(df['payment_type'].value_counts(normalize=True),\n",
        "        labels=df['payment_type'].value_counts().index,\n",
        "        startangle=90,shadow=True,autopct='%1.1f%%',\n",
        "        colors=['#FA643F', '#FFBCAB'])\n",
        "plt.show()"
      ],
      "metadata": {
        "id": "u-WE9i9s7eP_"
      },
      "execution_count": null,
      "outputs": []
    },
    {
      "cell_type": "code",
      "source": [
        "df['passenger_count'].describe()"
      ],
      "metadata": {
        "id": "Z1zEGGSt7hT2"
      },
      "execution_count": null,
      "outputs": []
    },
    {
      "cell_type": "code",
      "source": [
        "df"
      ],
      "metadata": {
        "id": "V_WHe2127kI3"
      },
      "execution_count": null,
      "outputs": []
    },
    {
      "cell_type": "code",
      "source": [
        "df.groupby(['payment_type','passenger_count'])[['passenger_count']].count()"
      ],
      "metadata": {
        "id": "VDcE2BMO7qCX"
      },
      "execution_count": null,
      "outputs": []
    },
    {
      "cell_type": "code",
      "source": [
        "passenger_count = df.groupby(['payment_type','passenger_count'])[['passenger_count']].count()\n",
        "passenger_count = passenger_count.rename(columns={'passenger_count': 'count'})\n",
        "passenger_count.reset_index(inplace=True)\n",
        "passenger_count['perc'] = (passenger_count['count'] / passenger_count['count'].sum()) * 100\n",
        "passenger_count"
      ],
      "metadata": {
        "id": "nm66p3YG7sNv"
      },
      "execution_count": null,
      "outputs": []
    },
    {
      "cell_type": "code",
      "source": [
        "df = pd.DataFrame(columns=['payment_type', 1, 2, 3, 4, 5])\n",
        "df['payment_type'] = ['Card', 'Cash']\n",
        "\n",
        "# Assign values to the 'Card' row from rows 0 to 4 in 'perc' column\n",
        "df.iloc[0, 1:] = passenger_count.loc[0:4, 'perc'].values\n",
        "\n",
        "# Assign same value (from row 4) 5 times to the 'Cash' row\n",
        "df.iloc[1, 1:] = [passenger_count.loc[4, 'perc']] * 5\n",
        "\n",
        "df\n"
      ],
      "metadata": {
        "id": "xhDbeD7n7vEq"
      },
      "execution_count": null,
      "outputs": []
    },
    {
      "cell_type": "code",
      "source": [
        "ax = df.plot(\n",
        "    x='payment_type',\n",
        "    kind='barh',\n",
        "    stacked=True,\n",
        "    color=['#FA643F', '#FFBCAB', '#CBB2B2', '#F1F1F1', '#A3C9A8'])\n",
        "\n",
        "for p in ax.patches:\n",
        "    width = p.get_width()\n",
        "    if width > 0:\n",
        "        x, y = p.get_xy()\n",
        "        ax.text(\n",
        "            x + width / 3,\n",
        "            y + p.get_height() / 3,\n",
        "            '{:.0f}%'.format(width),\n",
        "            ha='center',\n",
        "            va='center'\n",
        "        )\n"
      ],
      "metadata": {
        "id": "lNjv0b_z8GKa"
      },
      "execution_count": null,
      "outputs": []
    },
    {
      "cell_type": "code",
      "source": [
        "df"
      ],
      "metadata": {
        "id": "Bfr_yfer-4xG"
      },
      "execution_count": null,
      "outputs": []
    },
    {
      "cell_type": "code",
      "source": [
        "# Treat NaN as equal by using keep=False and na=False trick\n",
        "df[df.duplicated(keep=False)]"
      ],
      "metadata": {
        "id": "RrkXgs5rCnty"
      },
      "execution_count": null,
      "outputs": []
    },
    {
      "cell_type": "code",
      "source": [
        "df.duplicated(keep=False)"
      ],
      "metadata": {
        "id": "SXv1I6BHDy_n"
      },
      "execution_count": null,
      "outputs": []
    },
    {
      "cell_type": "code",
      "source": [
        "df['fare_amount'] = pd.to_numeric(df['fare_amount'], errors='coerce')\n",
        "clean_fare = df['fare_amount'].dropna()\n",
        "\n",
        "sm.qqplot(clean_fare, line='45')\n",
        "plt.title('Q-Q Plot of Fare Amount')\n",
        "plt.xlabel('Theoretical Quantiles')\n",
        "plt.ylabel('Sample Quantiles')\n",
        "plt.grid(True) # Added grid for better visualization\n",
        "plt.show()"
      ],
      "metadata": {
        "id": "Z--niGD2E1c_"
      },
      "execution_count": null,
      "outputs": []
    },
    {
      "cell_type": "code",
      "source": [
        "card_sample = df[df['payment_type']=='Card']['fare_amount']\n",
        "cash_sample = df[df['payment_type']=='Cash']['fare_amount']"
      ],
      "metadata": {
        "id": "l1xppOC9Hicb"
      },
      "execution_count": null,
      "outputs": []
    },
    {
      "cell_type": "code",
      "source": [
        "# prompt: df['fare_amount'] = pd.to_numeric(df['fare_amount'], errors='coerce')\n",
        "# clean_fare = df['fare_amount'].dropna()\n",
        "# sm.qqplot(clean_fare, line='45')\n",
        "# plt.title('Q-Q Plot of Fare Amount')\n",
        "# plt.xlabel('Theoretical Quantiles')\n",
        "# plt.ylabel('Sample Quantiles')\n",
        "# plt.grid(True) # Added grid for better visualization\n",
        "# plt.show()\n",
        "# correct these code\n",
        "\n",
        "import pandas as pd\n",
        "import matplotlib.pyplot as plt\n",
        "import seaborn as sns\n",
        "import statsmodels.api as sm\n",
        "import scipy.stats as st\n",
        "import warnings\n",
        "\n",
        "warnings.filterwarnings('ignore')\n",
        "\n",
        "df = pd.read_csv(\"/content/2023_Yellow_Taxi_Trip_dataset.xls\")\n",
        "\n",
        "# ... (rest of your existing code)\n",
        "\n",
        "df['fare_amount'] = pd.to_numeric(df['fare_amount'], errors='coerce')\n",
        "clean_fare = df['fare_amount'].dropna()\n",
        "\n",
        "# Correct the QQ plot code to handle potential errors gracefully\n",
        "try:\n",
        "    sm.qqplot(clean_fare, line='45')\n",
        "    plt.title('Q-Q Plot of Fare Amount')\n",
        "    plt.xlabel('Theoretical Quantiles')\n",
        "    plt.ylabel('Sample Quantiles')\n",
        "    plt.grid(True)\n",
        "    plt.show()\n",
        "except Exception as e:\n",
        "    print(f\"An error occurred during QQ plot generation: {e}\")\n",
        "    # Add further error handling or debugging steps if needed\n",
        "    # For instance, check the data type of 'clean_fare'\n",
        "\n",
        "card_sample = df[df['payment_type']=='Card']['fare_amount'].dropna()\n",
        "cash_sample = df[df['payment_type']=='Cash']['fare_amount'].dropna()\n",
        "# ... (rest of your existing code)\n"
      ],
      "metadata": {
        "id": "He6nlTtzHjDh"
      },
      "execution_count": null,
      "outputs": []
    },
    {
      "cell_type": "code",
      "source": [
        "import pandas as pd\n",
        "import matplotlib.pyplot as plt\n",
        "import seaborn as sns\n",
        "import statsmodels.api as sm\n",
        "import scipy.stats as st\n",
        "import warnings\n",
        "\n",
        "warnings.filterwarnings('ignore')\n",
        "\n",
        "df = pd.read_csv(\"/content/2023_Yellow_Taxi_Trip_dataset.xls\")\n",
        "\n",
        "# ... (rest of your existing code)\n",
        "\n",
        "df['fare_amount'] = pd.to_numeric(df['fare_amount'], errors='coerce')\n",
        "clean_fare = df['fare_amount'].dropna()\n",
        "\n",
        "# Correct the QQ plot code to handle potential errors gracefully\n",
        "try:\n",
        "    sm.qqplot(clean_fare, line='45')\n",
        "    plt.title('Q-Q Plot of Fare Amount')\n",
        "    plt.xlabel('Theoretical Quantiles')\n",
        "    plt.ylabel('Sample Quantiles')\n",
        "    plt.grid(True)\n",
        "    plt.show()\n",
        "except Exception as e:\n",
        "    print(f\"An error occurred during QQ plot generation: {e}\")\n",
        "    # Add further error handling or debugging steps if needed\n",
        "    # For instance, check the data type of 'clean_fare'\n",
        "\n",
        "card_sample = df[df['payment_type']=='Card']['fare_amount'].dropna()\n",
        "cash_sample = df[df['payment_type']=='Cash']['fare_amount'].dropna()\n",
        "# ... (rest of your existing code)"
      ],
      "metadata": {
        "id": "zRYkTDI3Hkti"
      },
      "execution_count": null,
      "outputs": []
    },
    {
      "cell_type": "code",
      "source": [],
      "metadata": {
        "id": "byOHD8_5vjt0"
      },
      "execution_count": null,
      "outputs": []
    },
    {
      "cell_type": "markdown",
      "source": [
        "# Question:1 What libraries are used in the notebook for data analysis and visualization?\n",
        "\n",
        "Answer: The notebook uses the following libraries:\n",
        "\n",
        "\n",
        "*   pandas for data manipulation.\n",
        "*   seaborn for enhanced visualizations.\n",
        "\n",
        "*   statsmodels.api for statistical models (like the Q-Q plot).\n",
        "*   scipy.stats for statistical tests (like the t-test).\n",
        "\n",
        "*   warnings to manage warning messages."
      ],
      "metadata": {
        "id": "tuQZId-YASrN"
      }
    },
    {
      "cell_type": "markdown",
      "source": [
        "# Question:2 What preprocessing steps are applied to the duration column?\n",
        "\n",
        "Answer:\n",
        "*  The tpep_pickup_datetime and tpep_dropoff_datetime columns are\n",
        "   converted to datetime objects.\n",
        "*  The duration is calculated by subtracting tpep_pickup_datetime  \n",
        "   from tpep_dropoff_datetime.\n",
        "*  The duration is converted to minutes.\n",
        "*  Outliers are removed from the duration column.\n",
        "\n"
      ],
      "metadata": {
        "id": "dj88uf7RBa5k"
      }
    },
    {
      "cell_type": "markdown",
      "source": [
        "# Question:3 How does the notebook handle missing values?\n",
        "\n",
        "Answer: The notebook handles missing values by using the dropna() method to remove rows containing missing values."
      ],
      "metadata": {
        "id": "CJLxOHz8CYkc"
      }
    },
    {
      "cell_type": "markdown",
      "source": [
        "# Question:4  What kind of plot is used to visualize the distribution of fare_amount for different payment_type values?\n",
        "\n",
        "Answer: The notebook uses a histogram to visualize the distribution of fare_amount for 'Card' and 'Cash' payment types."
      ],
      "metadata": {
        "id": "hl-l4GoTCg67"
      }
    },
    {
      "cell_type": "markdown",
      "source": [
        "# Question:5 What statistical test is performed to compare the fare_amount between 'Card' and 'Cash' payment types? What does the result indicate?\n",
        "\n",
        "Answer:\n",
        "*  The notebook performs an independent samples t-test (using scipy.stats.ttest_ind) to compare the fare_amount for 'Card' and 'Cash' payment types.\n",
        "*  The result will show a t-statistic and a p-value. The p-value indicates the statistical significance of the difference in fare amounts between the two payment types. If the p-value is below a chosen significance level (e.g., 0.05), it suggests a statistically significant difference."
      ],
      "metadata": {
        "id": "hu7obV7fCl86"
      }
    },
    {
      "cell_type": "code",
      "source": [],
      "metadata": {
        "id": "StI1HnxNF5NH"
      },
      "execution_count": null,
      "outputs": []
    }
  ]
}